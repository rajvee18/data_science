{
 "cells": [
  {
   "cell_type": "markdown",
   "metadata": {},
   "source": [
    "# Functions"
   ]
  },
  {
   "cell_type": "markdown",
   "metadata": {},
   "source": [
    "### Lambda Function"
   ]
  },
  {
   "cell_type": "code",
   "execution_count": 3,
   "metadata": {},
   "outputs": [
    {
     "name": "stdout",
     "output_type": "stream",
     "text": [
      "9\n",
      "9\n"
     ]
    }
   ],
   "source": [
    "def square(x):\n",
    "    return x**2\n",
    "\n",
    "print(square(3))\n",
    "\n",
    "square_lambda=lambda x: x**2\n",
    "print(square_lambda(3))"
   ]
  },
  {
   "cell_type": "markdown",
   "metadata": {},
   "source": [
    "### Built in functions"
   ]
  },
  {
   "cell_type": "code",
   "execution_count": 25,
   "metadata": {},
   "outputs": [
    {
     "name": "stdout",
     "output_type": "stream",
     "text": [
      "(2+5j)\n",
      "8\n",
      "4\n",
      "10\n",
      "3\n",
      "8\n",
      "33\n",
      "2\n",
      "2\n",
      "RAJVEE\n",
      "['apple', 'bannaa', 'mango', 'pineapple', 'eggs', 'cheese', 'tomatoes']\n",
      "['apple', 'drgonfruit', 'bannaa', 'mango', 'pineapple', 'eggs', 'cheese', 'tomatoes']\n",
      "[6, 5, 4, 3, 2, 1]\n",
      "[6, 5, 4, 3, 2, 1]\n",
      "[1, 2, 3, 4, 5, 6]\n",
      "['drgonfruit', 'bannaa', 'mango', 'pineapple', 'eggs', 'cheese', 'tomatoes']\n",
      "3\n",
      "False\n",
      "True\n",
      "False\n",
      "{'apple', 'pineapple', 'banana', 'ornage'}\n"
     ]
    }
   ],
   "source": [
    "\n",
    "#complex()\n",
    "complex_num=complex(2,5)\n",
    "print(complex_num)\n",
    "\n",
    "#pow()\n",
    "result=pow(2,3)\n",
    "print(result)\n",
    "\n",
    "#round()\n",
    "num=3.78\n",
    "rounded=round(num)\n",
    "print(rounded)\n",
    "\n",
    "#len()\n",
    "string=\"Rajvee, hi\"\n",
    "print(len(string))\n",
    "\n",
    "#min() max()\n",
    "list=[3,4,5,6,7,8]\n",
    "print(min(list))\n",
    "print(max(list))\n",
    "\n",
    "#sum() sum the iterable(list,tuple,etc)\n",
    "print(sum(list))\n",
    "\n",
    "#upper() lower()\n",
    "print(string.upper())\n",
    "\n",
    "\n",
    "#all() to check if all is true\n",
    "\n",
    "temp=[25,34,75,75,77,67]\n",
    "\n",
    "threshold_above= any([t>30 for t in temp])\n",
    "print(threshold_above)\n",
    "\n",
    "above_30= all([x>30 for x in temp])\n",
    "print(above_30)\n",
    "\n",
    "\n",
    "color=(\"red\",\"blue\",\"green\",\"yellow\",\"purple\")\n",
    "user_input= input(\"enter the color\").lower()\n",
    "\n",
    "if user_input in color:\n",
    "    print(f\"your color is {user_input.capitalize()}\")"
   ]
  },
  {
   "cell_type": "markdown",
   "metadata": {},
   "source": [
    "### List Methods"
   ]
  },
  {
   "cell_type": "code",
   "execution_count": 44,
   "metadata": {},
   "outputs": [
    {
     "name": "stdout",
     "output_type": "stream",
     "text": [
      "2\n",
      "2\n",
      "['apple', 'bannaa', 'mango', 'pineapple', 'eggs', 'cheese', 'tomatoes']\n",
      "['apple', 'drgonfruit', 'bannaa', 'mango', 'pineapple', 'eggs', 'cheese', 'tomatoes']\n",
      "[6, 5, 4, 3, 2, 1]\n",
      "[6, 5, 4, 3, 2, 1]\n",
      "[1, 2, 3, 4, 5, 6]\n",
      "['drgonfruit', 'bannaa', 'mango', 'pineapple', 'eggs', 'cheese', 'tomatoes']\n",
      "['drgonfruit', 'bannaa', 'mango', 'pineapple', 'eggs', 'cheese']\n",
      "['drgonfruit', 'bannaa', 'pineapple', 'eggs', 'cheese']\n",
      "2\n"
     ]
    }
   ],
   "source": [
    "#count() count the occurences of a item in an iterable\n",
    "words=[\"appls\",\"banana\",\"appls\"]\n",
    "x=words.count(\"appls\")\n",
    "print(x)\n",
    "name=\"Rajvee\"\n",
    "print(name.count(\"e\"))\n",
    "\n",
    "#extend()\n",
    "\n",
    "fruits=[\"apple\",\"bannaa\",\"mango\",\"pineapple\"]\n",
    "groceries=[\"eggs\",\"cheese\",\"tomatoes\"]\n",
    "\n",
    "fruits.extend(groceries)\n",
    "print(fruits)\n",
    "\n",
    "# insert()\n",
    "fruits.insert(1,\"drgonfruit\")\n",
    "print(fruits)\n",
    "\n",
    "# reverse()\n",
    "numbers=[1,2,3,4,5,6]\n",
    "numbers.reverse()\n",
    "print(numbers)\n",
    "\n",
    "# sort()\n",
    "\n",
    "numbers.sort(reverse=True)\n",
    "print(numbers)\n",
    "numbers.sort()\n",
    "print(numbers)\n",
    "\n",
    "# remove()\n",
    "\n",
    "fruits.remove(\"apple\")\n",
    "print(fruits)\n",
    "\n",
    "# pop() remove the last element\n",
    "fruits.pop()\n",
    "print(fruits)\n",
    "\n",
    "fruits.pop(2) \n",
    "print(fruits)\n",
    "\n",
    "# index() used to find specific position\n",
    "\n",
    "position= fruits.index(\"pineapple\")\n",
    "print(position)\n",
    "\n"
   ]
  },
  {
   "cell_type": "markdown",
   "metadata": {},
   "source": [
    "### Set Methods"
   ]
  },
  {
   "cell_type": "code",
   "execution_count": 26,
   "metadata": {},
   "outputs": [
    {
     "name": "stdout",
     "output_type": "stream",
     "text": [
      "{'apple', 'pineapple', 'banana', 'ornage'}\n"
     ]
    }
   ],
   "source": [
    "# add() used to add element in a set\n",
    "\n",
    "cart= {\"apple\",\"banana\",\"ornage\"}\n",
    "\n",
    "cart.add(\"pineapple\")\n",
    "\n",
    "print(cart)\n",
    "\n",
    "\n",
    "# discard() used to remove an element in a set\n",
    "\n",
    "#cart.remove(\"grape\")\n",
    "cart.discard(\"grape\")\n",
    "\n",
    "# union() and intersection()\n"
   ]
  },
  {
   "cell_type": "markdown",
   "metadata": {},
   "source": [
    "### Dictionary Methods"
   ]
  },
  {
   "cell_type": "code",
   "execution_count": 54,
   "metadata": {},
   "outputs": [
    {
     "name": "stdout",
     "output_type": "stream",
     "text": [
      "dict_keys(['name', 'age'])\n",
      "dict_values(['Rajvee', 20])\n",
      "dict_items([('name', 'Rajvee'), ('age', 20)])\n",
      "{'name': 'Rajvee', 'age': 20, 'occupation': 'student'}\n",
      "{'name': 'Rajvee', 'age': 30, 'occupation': 'student', 'like': 'none'}\n",
      "{'name': 'Rajvee', 'age': 30, 'occupation': 'student', 'like': 'none', 'media': 'instagram'}\n",
      "30\n",
      "not available\n",
      "{'a': 1, 'c': 3}\n"
     ]
    }
   ],
   "source": [
    "info={'name':\"Rajvee\",'age':20}\n",
    "\n",
    "print(info.keys()) #keys()\n",
    "print(info.values()) #values()\n",
    "print(info.items()) #items()\n",
    "\n",
    "#to add new key value pair\n",
    "\n",
    "info['occupation']='student'\n",
    "print(info)\n",
    "\n",
    "#adding using update() \"to add and also to correct existing key value pair\"\n",
    "info.update({'age':30})\n",
    "info.update({'like':'none'})\n",
    "print(info)\n",
    "\n",
    "new={'media':'instagram'}\n",
    "info.update(new)\n",
    "print(info)\n",
    "\n",
    "# get() method\n",
    "\n",
    "age=info.get('age') #when key is present\n",
    "print(age)\n",
    "\n",
    "salary=info.get('salary','not available') #when key is not present it uses the defalut given\n",
    "print(salary)\n",
    "\n",
    "# pop() the function remove() cannot be used in deictionary\n",
    "\n",
    "alpha={'a':1,'b':2,'c':3}\n",
    "\n",
    "popped_value=alpha.pop('b')\n",
    "print(alpha)\n",
    "\n",
    "pop=alpha.pop('d',0) #default is given if the key is not found\n",
    "p=alpha.pop('e',5)\n"
   ]
  },
  {
   "cell_type": "markdown",
   "metadata": {},
   "source": [
    "### User Defined Functions"
   ]
  },
  {
   "cell_type": "code",
   "execution_count": 55,
   "metadata": {},
   "outputs": [
    {
     "name": "stdout",
     "output_type": "stream",
     "text": [
      "hi RAjvee\n"
     ]
    }
   ],
   "source": [
    "def invitation(name):\n",
    "    print(f\"hi {name}\")\n",
    "\n",
    "x=input(\"enter the name\")\n",
    "invitation(x)"
   ]
  },
  {
   "cell_type": "code",
   "execution_count": 3,
   "metadata": {},
   "outputs": [
    {
     "name": "stdout",
     "output_type": "stream",
     "text": [
      "{'section1': 56, 'secction2': 45, 'section3': 677}\n"
     ]
    }
   ],
   "source": [
    "def classroom():\n",
    "    students={}\n",
    "\n",
    "    for i in range(3):\n",
    "        name=input(\"enter the class name\")\n",
    "        strength=int(input(\"enter the no. of students\"))\n",
    "        students[name]=strength\n",
    "    return students\n",
    "\n",
    "print(classroom())\n",
    "\n",
    "\n",
    "\n",
    "    \n",
    "\n",
    "    \n",
    "\n"
   ]
  },
  {
   "cell_type": "code",
   "execution_count": 11,
   "metadata": {},
   "outputs": [
    {
     "name": "stdout",
     "output_type": "stream",
     "text": [
      "['g', 'v89']\n",
      "['67', '89']\n",
      "{'g': '67', 'v89': '89'}\n"
     ]
    }
   ],
   "source": [
    "def names_marks():\n",
    "    name=[]\n",
    "    marks=[]\n",
    "    \n",
    "    for i in range(2):\n",
    "        name.append(input(\"enter the name\"))\n",
    "        marks.append(input(\"enter the mark\"))\n",
    "\n",
    "    return name,marks \n",
    "\n",
    "name,marks=names_marks()\n",
    "\n",
    "print(name)\n",
    "print(marks)\n",
    "\n",
    "roll={}\n",
    "\n",
    "\n",
    "\n",
    "for x, y in zip(name, marks):\n",
    "    roll[x] = y\n",
    "\n",
    "print(roll) "
   ]
  },
  {
   "cell_type": "code",
   "execution_count": 12,
   "metadata": {},
   "outputs": [
    {
     "name": "stdout",
     "output_type": "stream",
     "text": [
      "91\n"
     ]
    }
   ],
   "source": [
    "def square(x):\n",
    "    return x**2\n",
    "\n",
    "def sum_squares(num):\n",
    "    num_squares=[]\n",
    "\n",
    "    for i in num:\n",
    "        num_squares.append(square(i))\n",
    "    return sum(num_squares)\n",
    "\n",
    "num=[1,2,3,4,5,6]\n",
    "\n",
    "print(sum_squares(num))\n",
    "\n"
   ]
  },
  {
   "cell_type": "markdown",
   "metadata": {},
   "source": [
    "### map() function\n",
    "\n",
    "syntax : map(function,iterable)"
   ]
  },
  {
   "cell_type": "code",
   "execution_count": 14,
   "metadata": {},
   "outputs": [
    {
     "name": "stdout",
     "output_type": "stream",
     "text": [
      "[1, 4, 9, 16, 25, 36]\n"
     ]
    }
   ],
   "source": [
    "square = lambda x: x**2\n",
    "\n",
    "num=[1,2,3,4,5,6]\n",
    "\n",
    "square_num=list(map(square,num))\n",
    "\n",
    "print(square_num)\n",
    "\n",
    "\n"
   ]
  },
  {
   "cell_type": "markdown",
   "metadata": {},
   "source": [
    "## Recursion"
   ]
  },
  {
   "cell_type": "markdown",
   "metadata": {},
   "source": [
    "##### Factorial"
   ]
  },
  {
   "cell_type": "code",
   "execution_count": 1,
   "metadata": {},
   "outputs": [
    {
     "name": "stdout",
     "output_type": "stream",
     "text": [
      "24\n"
     ]
    }
   ],
   "source": [
    "def factorial(n):\n",
    "    if n==0 or n==1:\n",
    "        return 1\n",
    "    else:\n",
    "        facto=n*factorial(n-1)\n",
    "        return facto\n",
    "    \n",
    "print(factorial(4))"
   ]
  },
  {
   "cell_type": "markdown",
   "metadata": {},
   "source": [
    "##### Sum of digits of a integer"
   ]
  },
  {
   "cell_type": "code",
   "execution_count": 14,
   "metadata": {},
   "outputs": [
    {
     "name": "stdout",
     "output_type": "stream",
     "text": [
      "15\n"
     ]
    }
   ],
   "source": [
    "def sum_of_digits(x):\n",
    "    if x<10:\n",
    "        return x\n",
    "    else:\n",
    "        a= x%10\n",
    "        b=x//10\n",
    "        c=a+sum_of_digits(b)\n",
    "    return c\n",
    "    \n",
    "print(sum_of_digits(456))        "
   ]
  },
  {
   "cell_type": "markdown",
   "metadata": {},
   "source": [
    "#### Countdown"
   ]
  },
  {
   "cell_type": "code",
   "execution_count": 20,
   "metadata": {},
   "outputs": [
    {
     "name": "stdout",
     "output_type": "stream",
     "text": [
      "10\n",
      "9\n",
      "8\n",
      "7\n",
      "6\n",
      "5\n",
      "4\n",
      "3\n",
      "2\n",
      "1\n"
     ]
    }
   ],
   "source": [
    "def countdown(x):\n",
    "    if x<1:\n",
    "        return 1\n",
    "    else:\n",
    "        c=x-1\n",
    "        print(x)\n",
    "        countdown(x-1)\n",
    "\n",
    "countdown(10)"
   ]
  }
 ],
 "metadata": {
  "kernelspec": {
   "display_name": "Python 3",
   "language": "python",
   "name": "python3"
  },
  "language_info": {
   "codemirror_mode": {
    "name": "ipython",
    "version": 3
   },
   "file_extension": ".py",
   "mimetype": "text/x-python",
   "name": "python",
   "nbconvert_exporter": "python",
   "pygments_lexer": "ipython3",
   "version": "3.12.2"
  }
 },
 "nbformat": 4,
 "nbformat_minor": 2
}
